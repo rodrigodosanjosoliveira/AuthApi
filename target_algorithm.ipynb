{
  "nbformat": 4,
  "nbformat_minor": 0,
  "metadata": {
    "colab": {
      "name": "target-algorithm.ipynb",
      "provenance": [],
      "collapsed_sections": [],
      "authorship_tag": "ABX9TyNZhM7tElUyyyYzfUalTiai",
      "include_colab_link": true
    },
    "kernelspec": {
      "name": "python3",
      "display_name": "Python 3"
    }
  },
  "cells": [
    {
      "cell_type": "markdown",
      "metadata": {
        "id": "view-in-github",
        "colab_type": "text"
      },
      "source": [
        "<a href=\"https://colab.research.google.com/github/rodrigodosanjosoliveira/AuthApi/blob/master/target_algorithm.ipynb\" target=\"_parent\"><img src=\"https://colab.research.google.com/assets/colab-badge.svg\" alt=\"Open In Colab\"/></a>"
      ]
    },
    {
      "cell_type": "code",
      "metadata": {
        "colab_type": "code",
        "id": "zJLtr7gKL2-h",
        "colab": {}
      },
      "source": [
        "def soma_alvo(lista, alvo):\n",
        "  indice = 0\n",
        "  lista.sort()\n",
        "  for _ in range(len(lista)):\n",
        "    if lista[indice] + lista[indice + 1] == target:\n",
        "      print(f'[{indice}, {indice + 1}]')\n",
        "      break\n",
        "    indice += 1"
      ],
      "execution_count": 0,
      "outputs": []
    },
    {
      "cell_type": "code",
      "metadata": {
        "id": "JbRXXznqL4Hm",
        "colab_type": "code",
        "colab": {
          "base_uri": "https://localhost:8080/",
          "height": 34
        },
        "outputId": "3428b721-1dc9-414c-db33-b53bdce1ea32"
      },
      "source": [
        "lista = [2,7,11,15]\n",
        "alvo = 9\n",
        "soma_alvo(lista, alvo)"
      ],
      "execution_count": 11,
      "outputs": [
        {
          "output_type": "stream",
          "text": [
            "[0, 1]\n"
          ],
          "name": "stdout"
        }
      ]
    }
  ]
}